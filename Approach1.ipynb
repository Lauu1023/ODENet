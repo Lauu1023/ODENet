{
  "nbformat": 4,
  "nbformat_minor": 0,
  "metadata": {
    "colab": {
      "name": "Untitled1.ipynb",
      "provenance": [],
      "authorship_tag": "ABX9TyOKvf7flfbJBfGcx5xbGHL/",
      "include_colab_link": true
    },
    "kernelspec": {
      "name": "python3",
      "display_name": "Python 3"
    }
  },
  "cells": [
    {
      "cell_type": "markdown",
      "metadata": {
        "id": "view-in-github",
        "colab_type": "text"
      },
      "source": [
        "<a href=\"https://colab.research.google.com/github/Lauu1023/ODENet/blob/main/Approach1.ipynb\" target=\"_parent\"><img src=\"https://colab.research.google.com/assets/colab-badge.svg\" alt=\"Open In Colab\"/></a>"
      ]
    },
    {
      "cell_type": "code",
      "metadata": {
        "colab": {
          "base_uri": "https://localhost:8080/"
        },
        "id": "WlTQFrzZsYqt",
        "outputId": "f0c699db-78ee-4b91-f9a5-d761b2ce78eb"
      },
      "source": [
        "!git clone https://github.com/rtqichen/torchdiffeq.git"
      ],
      "execution_count": 1,
      "outputs": [
        {
          "output_type": "stream",
          "text": [
            "Cloning into 'torchdiffeq'...\n",
            "remote: Enumerating objects: 704, done.\u001b[K\n",
            "remote: Total 704 (delta 0), reused 0 (delta 0), pack-reused 704\u001b[K\n",
            "Receiving objects: 100% (704/704), 8.16 MiB | 26.01 MiB/s, done.\n",
            "Resolving deltas: 100% (426/426), done.\n"
          ],
          "name": "stdout"
        }
      ]
    },
    {
      "cell_type": "code",
      "metadata": {
        "colab": {
          "base_uri": "https://localhost:8080/"
        },
        "id": "jCpB-92_sluR",
        "outputId": "ea1739be-90f0-4ee0-e8eb-df3c3034e6a2"
      },
      "source": [
        "!python /content/torchdiffeq/setup.py build"
      ],
      "execution_count": 2,
      "outputs": [
        {
          "output_type": "stream",
          "text": [
            "running build\n"
          ],
          "name": "stdout"
        }
      ]
    },
    {
      "cell_type": "code",
      "metadata": {
        "id": "ZM6nw09estok"
      },
      "source": [
        "!python /content/torchdiffeq/setup.py install"
      ],
      "execution_count": null,
      "outputs": []
    },
    {
      "cell_type": "code",
      "metadata": {
        "colab": {
          "base_uri": "https://localhost:8080/"
        },
        "id": "TtMfGKyqs_J2",
        "outputId": "ee32d9e7-ccc8-4d40-eefb-139427ba0d2b"
      },
      "source": [
        "pip install torchdiffeq/"
      ],
      "execution_count": 5,
      "outputs": [
        {
          "output_type": "stream",
          "text": [
            "Processing ./torchdiffeq\n",
            "Requirement already satisfied: torch>=1.3.0 in /usr/local/lib/python3.6/dist-packages (from torchdiffeq==0.1.1) (1.7.0+cu101)\n",
            "Requirement already satisfied: typing-extensions in /usr/local/lib/python3.6/dist-packages (from torch>=1.3.0->torchdiffeq==0.1.1) (3.7.4.3)\n",
            "Requirement already satisfied: dataclasses in /usr/local/lib/python3.6/dist-packages (from torch>=1.3.0->torchdiffeq==0.1.1) (0.8)\n",
            "Requirement already satisfied: numpy in /usr/local/lib/python3.6/dist-packages (from torch>=1.3.0->torchdiffeq==0.1.1) (1.18.5)\n",
            "Requirement already satisfied: future in /usr/local/lib/python3.6/dist-packages (from torch>=1.3.0->torchdiffeq==0.1.1) (0.16.0)\n",
            "Building wheels for collected packages: torchdiffeq\n",
            "  Building wheel for torchdiffeq (setup.py) ... \u001b[?25l\u001b[?25hdone\n",
            "  Created wheel for torchdiffeq: filename=torchdiffeq-0.1.1-cp36-none-any.whl size=30771 sha256=4c2038ac91afa380ff75ad6fa7c1ecb5069a88d226cf1bbcd5c0519eab149cf2\n",
            "  Stored in directory: /tmp/pip-ephem-wheel-cache-3s1a_qnf/wheels/f3/bc/29/d42715eda75d0ab8043d84877c71e8eb0b2e791f99cefe2846\n",
            "Successfully built torchdiffeq\n",
            "Installing collected packages: torchdiffeq\n",
            "  Found existing installation: torchdiffeq 0.1.1\n",
            "    Uninstalling torchdiffeq-0.1.1:\n",
            "      Successfully uninstalled torchdiffeq-0.1.1\n",
            "Successfully installed torchdiffeq-0.1.1\n"
          ],
          "name": "stdout"
        }
      ]
    },
    {
      "cell_type": "code",
      "metadata": {
        "colab": {
          "base_uri": "https://localhost:8080/"
        },
        "id": "XPB5xxiCsxrG",
        "outputId": "ca88dcd0-9c0d-4359-b379-975dfec3d956"
      },
      "source": [
        "!python /content/torchdiffeq/examples/ode_demo.py"
      ],
      "execution_count": 6,
      "outputs": [
        {
          "output_type": "stream",
          "text": [
            "Iter 0020 | Total Loss 0.648528\n",
            "Iter 0040 | Total Loss 0.682399\n",
            "Iter 0060 | Total Loss 0.723620\n",
            "Iter 0080 | Total Loss 0.939431\n",
            "Iter 0100 | Total Loss 0.362424\n",
            "Iter 0120 | Total Loss 0.610815\n",
            "Iter 0140 | Total Loss 0.418099\n",
            "Iter 0160 | Total Loss 0.352464\n",
            "Iter 0180 | Total Loss 0.540222\n",
            "Iter 0200 | Total Loss 0.405210\n",
            "Iter 0220 | Total Loss 0.514112\n",
            "\n",
            "^C\n"
          ],
          "name": "stdout"
        }
      ]
    }
  ]
}