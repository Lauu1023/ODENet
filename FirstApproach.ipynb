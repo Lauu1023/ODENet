{
  "nbformat": 4,
  "nbformat_minor": 0,
  "metadata": {
    "colab": {
      "name": "Untitled0.ipynb",
      "provenance": [],
      "authorship_tag": "ABX9TyMbNjxxBpVOwOFdyUSJZKN+",
      "include_colab_link": true
    },
    "kernelspec": {
      "name": "python3",
      "display_name": "Python 3"
    }
  },
  "cells": [
    {
      "cell_type": "markdown",
      "metadata": {
        "id": "view-in-github",
        "colab_type": "text"
      },
      "source": [
        "<a href=\"https://colab.research.google.com/github/Lauu1023/ODENet/blob/main/FirstApproach.ipynb\" target=\"_parent\"><img src=\"https://colab.research.google.com/assets/colab-badge.svg\" alt=\"Open In Colab\"/></a>"
      ]
    },
    {
      "cell_type": "code",
      "metadata": {
        "colab": {
          "base_uri": "https://localhost:8080/"
        },
        "id": "PZ_C5duKmVsX",
        "outputId": "6d6a1f13-74cd-43b9-878d-c2a297d74ec5"
      },
      "source": [
        "!git clone https://github.com/Lauu1023/ODENet.git"
      ],
      "execution_count": 3,
      "outputs": [
        {
          "output_type": "stream",
          "text": [
            "Cloning into 'ODENet'...\n",
            "remote: Enumerating objects: 44, done.\u001b[K\n",
            "remote: Counting objects: 100% (44/44), done.\u001b[K\n",
            "remote: Compressing objects: 100% (42/42), done.\u001b[K\n",
            "remote: Total 44 (delta 2), reused 44 (delta 2), pack-reused 0\n",
            "Unpacking objects: 100% (44/44), done.\n"
          ],
          "name": "stdout"
        }
      ]
    },
    {
      "cell_type": "code",
      "metadata": {
        "id": "WIfAOmpAoDHE"
      },
      "source": [
        "!python /content/ODENet/setup.py build"
      ],
      "execution_count": null,
      "outputs": []
    },
    {
      "cell_type": "code",
      "metadata": {
        "id": "VT1lPJ2yqGZ3"
      },
      "source": [
        "!python /content/ODENet/setup.py install"
      ],
      "execution_count": null,
      "outputs": []
    },
    {
      "cell_type": "code",
      "metadata": {
        "colab": {
          "base_uri": "https://localhost:8080/"
        },
        "id": "Q8sS5Wumq1d7",
        "outputId": "3552810f-5def-4b01-ebf1-2ac92f90d1a2"
      },
      "source": [
        "pip install /content/ODENet/torchdiffeq/"
      ],
      "execution_count": 26,
      "outputs": [
        {
          "output_type": "stream",
          "text": [
            "\u001b[31mERROR: Directory '/content/ODENet/torchdiffeq/' is not installable. Neither 'setup.py' nor 'pyproject.toml' found.\u001b[0m\n"
          ],
          "name": "stdout"
        }
      ]
    },
    {
      "cell_type": "code",
      "metadata": {
        "colab": {
          "base_uri": "https://localhost:8080/"
        },
        "id": "QaFn87XQqXds",
        "outputId": "c53a5c9f-6b70-46b5-e54a-12db8b602e4d"
      },
      "source": [
        "!python /content/ODENet/examples/ode_demo.py"
      ],
      "execution_count": 20,
      "outputs": [
        {
          "output_type": "stream",
          "text": [
            "Traceback (most recent call last):\n",
            "  File \"/content/ODENet/examples/ode_demo.py\", line 25, in <module>\n",
            "    from torchdiffeq import odeint\n",
            "ModuleNotFoundError: No module named 'torchdiffeq'\n"
          ],
          "name": "stdout"
        }
      ]
    },
    {
      "cell_type": "markdown",
      "metadata": {
        "id": "F4AE5jfmns-z"
      },
      "source": [
        "/content/ODENet/torchdiffeq/__init__.py"
      ]
    }
  ]
}